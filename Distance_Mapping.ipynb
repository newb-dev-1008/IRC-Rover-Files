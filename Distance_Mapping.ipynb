{
  "nbformat": 4,
  "nbformat_minor": 0,
  "metadata": {
    "colab": {
      "name": "Distance Mapping.ipynb",
      "provenance": [],
      "authorship_tag": "ABX9TyNNkecmQpRQw/vHrVPMvNgP",
      "include_colab_link": true
    },
    "kernelspec": {
      "name": "python3",
      "display_name": "Python 3"
    },
    "language_info": {
      "name": "python"
    }
  },
  "cells": [
    {
      "cell_type": "markdown",
      "metadata": {
        "id": "view-in-github",
        "colab_type": "text"
      },
      "source": [
        "<a href=\"https://colab.research.google.com/github/newb-dev-1008/IRC-Rover-Files/blob/master/Distance_Mapping.ipynb\" target=\"_parent\"><img src=\"https://colab.research.google.com/assets/colab-badge.svg\" alt=\"Open In Colab\"/></a>"
      ]
    },
    {
      "cell_type": "markdown",
      "metadata": {
        "id": "oyUYgFphsJVr"
      },
      "source": [
        "# **Distance from camera to marker using OpenCV:**"
      ]
    },
    {
      "cell_type": "code",
      "metadata": {
        "id": "nG4USHTQpyDU"
      },
      "source": [
        "# import the necessary packages\n",
        "from imutils import paths\n",
        "import numpy as np\n",
        "import imutils\n",
        "import cv2\n",
        "\n",
        "def find_marker(image):\n",
        "\tgray = cv2.cvtColor(image, cv2.COLOR_BGR2GRAY)\n",
        "\tgray = cv2.GaussianBlur(gray, (5, 5), 0)\n",
        "\tedged = cv2.Canny(gray, 35, 125)\n",
        " \n",
        "\tcnts = cv2.findContours(edged.copy(), cv2.RETR_LIST, cv2.CHAIN_APPROX_SIMPLE)\n",
        "\tcnts = imutils.grab_contours(cnts)\n",
        "\tc = max(cnts, key = cv2.contourArea)\n",
        " \n",
        "\treturn cv2.minAreaRect(c)"
      ],
      "execution_count": null,
      "outputs": []
    }
  ]
}