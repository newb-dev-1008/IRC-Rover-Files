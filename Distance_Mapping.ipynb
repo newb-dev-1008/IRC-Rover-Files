{
  "nbformat": 4,
  "nbformat_minor": 0,
  "metadata": {
    "colab": {
      "name": "Distance Mapping.ipynb",
      "provenance": [],
      "authorship_tag": "ABX9TyNN5p2LFTXC698+QCd9H/4J",
      "include_colab_link": true
    },
    "kernelspec": {
      "name": "python3",
      "display_name": "Python 3"
    },
    "language_info": {
      "name": "python"
    }
  },
  "cells": [
    {
      "cell_type": "markdown",
      "metadata": {
        "id": "view-in-github",
        "colab_type": "text"
      },
      "source": [
        "<a href=\"https://colab.research.google.com/github/newb-dev-1008/IRC-Rover-Files/blob/master/Distance_Mapping.ipynb\" target=\"_parent\"><img src=\"https://colab.research.google.com/assets/colab-badge.svg\" alt=\"Open In Colab\"/></a>"
      ]
    },
    {
      "cell_type": "markdown",
      "metadata": {
        "id": "oyUYgFphsJVr"
      },
      "source": [
        "# **Distance from camera to marker using OpenCV:**"
      ]
    },
    {
      "cell_type": "markdown",
      "metadata": {
        "id": "aMdDjcrUtUbm"
      },
      "source": [
        "## **Helper Functions:**"
      ]
    },
    {
      "cell_type": "code",
      "metadata": {
        "id": "nG4USHTQpyDU"
      },
      "source": [
        "from imutils import paths\n",
        "import numpy as np\n",
        "import imutils\n",
        "import cv2\n",
        "\n",
        "def find_marker(image):\n",
        "\tgray = cv2.cvtColor(image, cv2.COLOR_BGR2GRAY)\n",
        "\tgray = cv2.GaussianBlur(gray, (5, 5), 0)\n",
        "\tedged = cv2.Canny(gray, 35, 125)\n",
        " \n",
        "\tcnts = cv2.findContours(edged.copy(), cv2.RETR_LIST, cv2.CHAIN_APPROX_SIMPLE)\n",
        "\tcnts = imutils.grab_contours(cnts)\n",
        "\tc = max(cnts, key = cv2.contourArea)\n",
        " \n",
        "\treturn cv2.minAreaRect(c)\n",
        "\n",
        "\n",
        "# Compute and return the distance from the marker to the camera\n",
        "def distance_to_camera(knownWidth, focalLength, perWidth):\n",
        "\treturn (knownWidth * focalLength) / perWidth"
      ],
      "execution_count": null,
      "outputs": []
    },
    {
      "cell_type": "markdown",
      "metadata": {
        "id": "0HxFJr-etbIk"
      },
      "source": [
        "## **Driver program to test distances:**"
      ]
    },
    {
      "cell_type": "code",
      "metadata": {
        "id": "MBz-4FoBtXUG"
      },
      "source": [
        "# Initialize the known distance from the camera to the object\n",
        "KNOWN_DISTANCE = # \n",
        "\n",
        "# Initialize the known object width\n",
        "KNOWN_WIDTH = # \n",
        "\n",
        "image = cv2.imread(\"images/2ft.png\")\n",
        "marker = find_marker(image)\n",
        "focalLength = (marker[1][0] * KNOWN_DISTANCE) / KNOWN_WIDTH\n",
        "\n",
        "\n",
        "for imagePath in sorted(paths.list_images(\"images\")):\n",
        "\t\n",
        "\timage = cv2.imread(imagePath)\n",
        "\tmarker = find_marker(image)\n",
        "\tinches = distance_to_camera(KNOWN_WIDTH, focalLength, marker[1][0])\n",
        " \n",
        "\tbox = cv2.cv.BoxPoints(marker) if imutils.is_cv2() else cv2.boxPoints(marker)\n",
        "\tbox = np.int0(box)\n",
        "\tcv2.drawContours(image, [box], -1, (0, 255, 0), 2)\n",
        "\tcv2.putText(image, \"%.2fft\" % (inches / 12),\n",
        "\t\t(image.shape[1] - 200, image.shape[0] - 20), cv2.FONT_HERSHEY_SIMPLEX,\n",
        "\t\t2.0, (0, 255, 0), 3)\n",
        "\tcv2.imshow(\"image\", image)\n",
        "\tcv2.waitKey(0)"
      ],
      "execution_count": null,
      "outputs": []
    },
    {
      "cell_type": "code",
      "metadata": {
        "id": "52DJ4-49vH-d"
      },
      "source": [
        ""
      ],
      "execution_count": null,
      "outputs": []
    }
  ]
}