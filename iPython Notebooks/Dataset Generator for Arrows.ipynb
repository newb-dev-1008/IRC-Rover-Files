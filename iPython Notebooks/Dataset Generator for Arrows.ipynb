{
 "cells": [
  {
   "cell_type": "code",
   "execution_count": 1,
   "metadata": {},
   "outputs": [],
   "source": [
    "import os\n",
    "import cv2\n",
    "from imutils import paths\n",
    "import numpy as np"
   ]
  },
  {
   "cell_type": "code",
   "execution_count": 2,
   "metadata": {},
   "outputs": [],
   "source": [
    "# Rotate by 90 degrees\n",
    "# Augment the color schemes of the images\n",
    "# Shear/ elongate the images"
   ]
  },
  {
   "cell_type": "code",
   "execution_count": 6,
   "metadata": {},
   "outputs": [],
   "source": [
    "# Rotating image for obtaining forward datasets\n",
    "\n",
    "inputPath = 'C:\\\\Users\\\\Yash Umale\\\\Documents\\\\7th Sem\\\\IRC\\\\Datasets\\\\Creating Datasets\\\\Downloaded Datasets\\\\Right'\n",
    "outputPath = 'C:\\\\Users\\\\Yash Umale\\\\Documents\\\\7th Sem\\\\IRC\\\\Datasets\\\\Creating Datasets\\\\Downloaded Datasets\\\\Straight'\n",
    "\n",
    "imagePaths = list(paths.list_images(inputPath))\n",
    "os.chdir(outputPath)\n",
    "\n",
    "i = 0\n",
    "for imagePath in imagePaths:\n",
    "    i += 1\n",
    "    image = cv2.imread(imagePath)\n",
    "    image = cv2.rotate(image, cv2.ROTATE_90_COUNTERCLOCKWISE)\n",
    "    cv2.imwrite(str(i) + '.jpg', image)"
   ]
  },
  {
   "cell_type": "code",
   "execution_count": 25,
   "metadata": {},
   "outputs": [],
   "source": [
    "# Rotating image for obtaining left datasets\n",
    "\n",
    "inputPath = 'C:\\\\Users\\\\Yash Umale\\\\Documents\\\\7th Sem\\\\IRC\\\\Datasets\\\\Creating Datasets\\\\Downloaded Datasets\\\\Left'\n",
    "outputPath = 'C:\\\\Users\\\\Yash Umale\\\\Documents\\\\7th Sem\\\\IRC\\\\Datasets\\\\Creating Datasets\\\\Downloaded Datasets\\\\Right'\n",
    "\n",
    "imagePaths = list(paths.list_images(inputPath))\n",
    "os.chdir(outputPath)\n",
    "\n",
    "i = 0\n",
    "for imagePath in imagePaths:\n",
    "    i += 1\n",
    "    image = cv2.imread(imagePath)\n",
    "    image = cv2.rotate(image, cv2.ROTATE_180)\n",
    "    cv2.imwrite(str(i) + '.jpg', image)"
   ]
  },
  {
   "cell_type": "code",
   "execution_count": 26,
   "metadata": {},
   "outputs": [
    {
     "name": "stderr",
     "output_type": "stream",
     "text": [
      "\r",
      "Executing Pipeline:   0%|                                                                 | 0/99 [00:00<?, ? Samples/s]"
     ]
    },
    {
     "name": "stdout",
     "output_type": "stream",
     "text": [
      "Initialised with 99 image(s) found.\n",
      "Output directory set to C:\\Users\\Yash Umale\\Documents\\7th Sem\\IRC\\Datasets\\Creating Datasets\\Downloaded Datasets\\Right\\Output.Initialised with 99 image(s) found.\n",
      "Output directory set to C:\\Users\\Yash Umale\\Documents\\7th Sem\\IRC\\Datasets\\Creating Datasets\\Downloaded Datasets\\Right\\Output.Initialised with 99 image(s) found.\n",
      "Output directory set to C:\\Users\\Yash Umale\\Documents\\7th Sem\\IRC\\Datasets\\Creating Datasets\\Downloaded Datasets\\Right\\Output."
     ]
    },
    {
     "name": "stderr",
     "output_type": "stream",
     "text": [
      "Processing <PIL.Image.Image image mode=RGB size=500x520 at 0x1EF29EEF940>: 100%|█| 99/99 [00:18<00:00,  5.30 Samples/s]\n",
      "Processing <PIL.Image.Image image mode=RGB size=500x520 at 0x1EF28F746D0>: 100%|█| 99/99 [00:19<00:00,  5.17 Samples/s]\n",
      "Processing <PIL.Image.Image image mode=1 size=500x520 at 0x1EF28A0A670>: 100%|███| 99/99 [00:01<00:00, 65.27 Samples/s]\n"
     ]
    }
   ],
   "source": [
    "# Augmentation\n",
    "\n",
    "import Augmentor\n",
    "\n",
    "# Change inputPath as required\n",
    "inputPath = 'C:\\\\Users\\\\Yash Umale\\\\Documents\\\\7th Sem\\\\IRC\\\\Datasets\\\\Creating Datasets\\\\Downloaded Datasets\\\\Right'\n",
    "outputPath = 'C:\\\\Users\\\\Yash Umale\\\\Documents\\\\7th Sem\\\\IRC\\\\Datasets\\\\Creating Datasets\\\\Downloaded Datasets\\\\Right\\\\Output'\n",
    "\n",
    "p1 = Augmentor.Pipeline(inputPath, outputPath)\n",
    "p2 = Augmentor.Pipeline(inputPath, outputPath)\n",
    "p3 = Augmentor.Pipeline(inputPath, outputPath)\n",
    "\n",
    "p1.skew_left_right(probability = 1)\n",
    "p2.skew_top_bottom(probability = 1)\n",
    "p3.black_and_white(probability = 1, threshold = 64)\n",
    "\n",
    "p1.set_save_format(save_format = \"auto\")\n",
    "p1.process()\n",
    "p2.set_save_format(save_format = \"auto\")\n",
    "p2.process()\n",
    "p3.set_save_format(save_format = \"auto\")\n",
    "p3.process()"
   ]
  },
  {
   "cell_type": "code",
   "execution_count": null,
   "metadata": {},
   "outputs": [],
   "source": [
    "# Path to folder containing the datasets\n",
    "inputPaths = \"C://Users//Yash Umale//Documents//7th Sem//IRC//IRC-Rover-Files//Datasets//Creating Datasets//Downloaded Datasets//Final Datasets for Training/Left\"\n",
    "outputPaths = \"C://Users//Yash Umale//Documents//7th Sem//IRC//IRC-Rover-Files//Datasets//Creating Datasets//Downloaded Datasets//Final Datasets for Training/Left/Resized\"\n",
    "\n",
    "# List to store the paths of all images in the dataset\n",
    "imagePaths = list(paths.list_images(inputPaths))\n",
    "\n",
    "# This list will be used to store all the images in Bitmap format from OpenCV's imread()\n",
    "images = []\n",
    "\n",
    "for imagePath in imagePaths:\n",
    "    label = imagePath.split(os.path.sep)[-2]\n",
    "    labels.append(label)\n",
    "    \n",
    "    image = cv2.imread(imagePath)\n",
    "    image = cv2.cvtColor(image. cv2.COLOR_BGR2RGB)\n",
    "    image = cv2.resize(image, (64, 64))\n",
    "    \n",
    "    images.append(image)"
   ]
  }
 ],
 "metadata": {
  "kernelspec": {
   "display_name": "Python 3",
   "language": "python",
   "name": "python3"
  },
  "language_info": {
   "codemirror_mode": {
    "name": "ipython",
    "version": 3
   },
   "file_extension": ".py",
   "mimetype": "text/x-python",
   "name": "python",
   "nbconvert_exporter": "python",
   "pygments_lexer": "ipython3",
   "version": "3.9.0"
  }
 },
 "nbformat": 4,
 "nbformat_minor": 4
}
