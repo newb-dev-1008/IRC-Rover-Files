{
 "cells": [
  {
   "cell_type": "code",
   "execution_count": null,
   "metadata": {},
   "outputs": [],
   "source": [
    "import os \n",
    "import cv2\n",
    "import matplotlib.pyplot as plt\n",
    "import numpy as np\n",
    "from imutils import paths\n",
    "import tensorflow as tf"
   ]
  },
  {
   "cell_type": "code",
   "execution_count": null,
   "metadata": {},
   "outputs": [],
   "source": [
    "# Store input data with respective labels\n",
    "\n",
    "# Path to folder containing the datasets\n",
    "inputPaths = \"C://Users//Yash Umale//Documents//7th Sem//IRC//IRC-Rover-Files//Datasets//Creating Datasets//Downloaded Datasets//Final Datasets for Training\"\n",
    "\n",
    "# All possible labels/ directions\n",
    "labels = [\"Right\", \"Left\", \"Straight\"]\n",
    "\n",
    "# List to store the paths of all images in the dataset\n",
    "imagePaths = list(paths.list_images(inputPaths))\n",
    "\n",
    "# This list will be used to store all the images in Bitmap format from OpenCV's imread()\n",
    "images = []\n",
    "\n",
    "for imagePath in imagePaths:\n",
    "    label = imagePath.split(os.path.sep)[-2]\n",
    "    labels.append(label)\n",
    "    \n",
    "    image = cv2.imread(imagePath)\n",
    "    image = cv2.cvtColor(image. cv2.COLOR_BGR2RGB)\n",
    "    image = cv2.resize(image, (64, 64))\n",
    "    \n",
    "    images.append(image)"
   ]
  },
  {
   "cell_type": "code",
   "execution_count": null,
   "metadata": {},
   "outputs": [],
   "source": [
    "images = np.array(images)\n",
    "labels = np.array(labels)\n",
    "\n",
    "# One-hot encoding of labels to deal with categorical data\n",
    "lb = LabelBinarizer()\n",
    "labels = lb.fit_transform(labels)\n",
    "\n",
    "# Partition the datasets for training and validation (75% train : 25% test)\n",
    "(trainX, testX, trainY, testY) = train_test_split(data, labels, test_size = 0.25, stratify = labels)\n",
    "\n",
    "# Initialize the training data augmentation object\n",
    "trainAug = ImageDataGenerator(rotation_range = 0,\n",
    "                             zoom_range = 0.15, \n",
    "                             width_shift_range = 0.15, \n",
    "                             height_shift_range = 0.15, \n",
    "                             shear_range = 0.15, \n",
    "                             horizontal_flip = False,\n",
    "                             fill_mode = 'nearest')\n",
    "\n",
    "# Initialize the validation data augmentation object\n",
    "valAug = ImageDataGenerator()\n",
    "\n",
    "# Define the ImageNet Mean Subtraction (in RGB order) and set mean subtraction value \n"
   ]
  }
 ],
 "metadata": {
  "kernelspec": {
   "display_name": "Python 3",
   "language": "python",
   "name": "python3"
  },
  "language_info": {
   "codemirror_mode": {
    "name": "ipython",
    "version": 3
   },
   "file_extension": ".py",
   "mimetype": "text/x-python",
   "name": "python",
   "nbconvert_exporter": "python",
   "pygments_lexer": "ipython3",
   "version": "3.9.0"
  }
 },
 "nbformat": 4,
 "nbformat_minor": 4
}
